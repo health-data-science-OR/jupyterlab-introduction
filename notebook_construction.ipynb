{
 "cells": [
  {
   "cell_type": "markdown",
   "id": "7e291f91-ea73-4315-8926-6d5360ff0117",
   "metadata": {},
   "source": [
    "# Jupyter notebooks"
   ]
  },
  {
   "cell_type": "markdown",
   "id": "6e9e3a22-ff5e-4703-8294-1a7b57df8ad2",
   "metadata": {
    "jp-MarkdownHeadingCollapsed": true
   },
   "source": [
    "## 1. Imports "
   ]
  },
  {
   "cell_type": "markdown",
   "id": "27ad0c55-1241-4055-acab-cf4c04ffe9aa",
   "metadata": {
    "jp-MarkdownHeadingCollapsed": true
   },
   "source": [
    "### 1.1. Standard imports"
   ]
  },
  {
   "cell_type": "code",
   "execution_count": 8,
   "id": "54366b7e-f14d-4d62-bd38-e180be677fd8",
   "metadata": {},
   "outputs": [],
   "source": [
    "import numpy as np"
   ]
  },
  {
   "cell_type": "markdown",
   "id": "1b207c0c-06d7-4ce6-bdee-e6356fb2b84a",
   "metadata": {
    "jp-MarkdownHeadingCollapsed": true
   },
   "source": [
    "### 1.2. Non-standard imports\n",
    "\n",
    "The package `meta-py` (available on PyPI `pip install meta-py`) was used in our sample methods section to provide input data"
   ]
  },
  {
   "cell_type": "code",
   "execution_count": 11,
   "id": "840ab73a-4743-4c20-ab71-17fb5b4b66b6",
   "metadata": {},
   "outputs": [
    {
     "name": "stdout",
     "output_type": "stream",
     "text": [
      "0.4.0\n"
     ]
    }
   ],
   "source": [
    "from metapy import __version__\n",
    "from metapy.tsp import tsp_io as io\n",
    "from metapy.tsp.euclidean import gen_matrix, plot_tour \n",
    "\n",
    "print(__version__)"
   ]
  },
  {
   "cell_type": "markdown",
   "id": "2f8ecf73-50e9-4e4c-a5c4-993ecdbf9139",
   "metadata": {},
   "source": [
    "## An overview of sections in a experimental report\n",
    "\n",
    "There are no hard and fast rules for a Jupyter notebook structure that contains computational models and experiments. However, from general experimental science we know that the following standard format works well (adapted from Field and Hole, 2003).\n",
    "\n",
    "* Title\n",
    "* Abstract and/or plain English summary\n",
    "* Introduction\n",
    "* Method\n",
    "    * Analysis environment\n",
    "    * Design\n",
    "    * Models/Algorithms\n",
    "    * Case studies\n",
    "    * Procedure\n",
    "* Results\n",
    "* Discussion\n",
    "* References\n",
    "* Appendix (may not be needed; potentially links to a separate notebook)\n",
    "\n",
    "Field and Hole (2003) state that the above structure is relevant for experimental research as it answers the following four questions:\n",
    "\n",
    "1. **Why** did the authors run the experiments with their models and what did they aim to find? (**introduction**)\n",
    "2. **How** was the experimental work carried out?  What models were used, how were they implemented (e.g. a 3rd party library or implemented directly); what experimental design was used? (**methods**) \n",
    "3. **What** were the **results** of the experiments?\n",
    "4. **So What?** What do the results means, what are the strengths and limitations of the study. What further work could be completed? "
   ]
  },
  {
   "cell_type": "markdown",
   "id": "79f11ddc-9a08-41c8-b0c0-f7d37f4b2c29",
   "metadata": {},
   "source": [
    "## 2. An example methods section\n",
    "\n",
    "In this simple example, a general optimisation algorithm called GRASP is implemented.  It is applied to a famous combinatorial optimisation problem - the traveling salesman problem (TSP).\n",
    "\n",
    "### 2.1 Methods\n",
    "\n",
    "In this study we will use a basic form of the GRASP metaheuristic algorithm to solve the symmetric Travelling Salesman Problem (TSP). In the TSP a salesman must visit a set of cities once and only once in the shortest possible distance (or time).  The Greedy Randomised Adaptive Search Procedure (**GRASP**) was introduced by Rio and Resende in 1989. It is an extremely simple multi-start **metaheuristic**. The basic form of GRASP is based on two phases:\n",
    "\n",
    "1. an initial semi-greedy construction/repair phase; \n",
    "2. a period of local search to improve on the initial solution.\n",
    "\n",
    "The basic GRASP algorithm is outlined below.  Note that the TSP implementation of GRASP in this study always results in feasible solutions.  Optionally GRASP may include a **repair** function used to modify infeasible solutions created during the construction phase.\n",
    "\n",
    "```\n",
    "PROCEDURE basic_grasp():\n",
    "    \n",
    "    best = []\n",
    "    do \n",
    "    \n",
    "        s = greedy_construction()\n",
    "        s = local_search(s)\n",
    "\n",
    "        if cost(s) > cost(best):\n",
    "            best = s\n",
    "    \n",
    "    until max iterations or time limit reached.\n",
    "    \n",
    "    return best\n",
    "```\n",
    "\n",
    "#### 2.1.1 Components of GRASP\n",
    "\n",
    "##### Semi-greedy construction\n",
    "\n",
    "A fundamental part of GRASP is semi-greedy construction.  In a purely **greedy construction** method for the TSP we select a starting point in the tour and then choose the next closest city (the nearest neighbour algorithm). We continue to do this until all cities are visited. In contrast in **Semi-Greedy construction** we modify the approach to incorporate the probability. Instead of always visiting the closest city there is now a probability that we visit one of the n closest cities.  Therefore semi-greedy algorithms are a half way house between random and greedy search.\n",
    "\n",
    "##### Restricted Candidate Lists\n",
    "\n",
    "The first step in semi-greedy construction is to create the restricted candidate list: the list of top valued components that the algorithm will choose from in its next step. In the TSP a straightforward implementation is choosing the closest r cities where r is a hyper-parameter that can be fixed, a random variable or learned over time.\n",
    "\n",
    "Below we implement the fixed sized "
   ]
  },
  {
   "cell_type": "code",
   "execution_count": 12,
   "id": "01452d67-a9c5-4af9-8b31-a330f7a16a46",
   "metadata": {},
   "outputs": [],
   "source": [
    "class FixedRCLSizer:\n",
    "    '''\n",
    "    Fixed sized RCL list.\n",
    "    \n",
    "    When r = 1 then greedy\n",
    "    When r = len(tour) then random\n",
    "    '''\n",
    "    def __init__(self, r):\n",
    "        self.r = r\n",
    "        \n",
    "    def get_size(self):\n",
    "        '''\n",
    "        Returns an int representing the size of the required RCL\n",
    "        '''\n",
    "        return self.r"
   ]
  },
  {
   "cell_type": "markdown",
   "id": "330569b1-183f-44ca-bd98-fe169be21b0e",
   "metadata": {},
   "source": [
    "We now introduce a basic semi-greedy implementation in Python.\n",
    "\n",
    "A key point to remember is that construction is iterative. A new RCL is created in each iteration and a city is chosen from it at random until all cities have been added to the tour.\n",
    "\n",
    "Here we create a `SemiGreedyConstructor` class. The class accepts a rcl_sizer as an argument (an object that implements a `get_size()` method). This means you can vary the RCL sizing logic and treat it as a hyper parameter."
   ]
  },
  {
   "cell_type": "code",
   "execution_count": 13,
   "id": "6be0001b-536b-4bf4-99ae-c222eaeb259d",
   "metadata": {},
   "outputs": [],
   "source": [
    "class SemiGreedyConstructor:\n",
    "    '''\n",
    "    Semi-greedy construction of a tour.\n",
    "    \n",
    "    For a city i creates a restricted candidate list of size r\n",
    "    i.e the r shortest distances from city i.  \n",
    "    Next city is chosen with equal probability.\n",
    "    Repeats until tour is constructed.\n",
    "    '''\n",
    "    def __init__(self, rcl_sizer, tour, matrix,\n",
    "                 random_seed=None):\n",
    "        '''\n",
    "        Constructor\n",
    "        \n",
    "        Params:\n",
    "        ------\n",
    "        rcl_sizer: object\n",
    "            sizes the restricted candidate list\n",
    "        \n",
    "        tour: np.ndarray\n",
    "            vector of city indexes included in problem\n",
    "            \n",
    "        matrix: np.ndarray\n",
    "            matrix of travel costs\n",
    "            \n",
    "        random_seed: int\n",
    "            used to control sampling and provides a\n",
    "            reproducible result.\n",
    "        '''\n",
    "        \n",
    "        # size of rcl\n",
    "        self.rcl_sizer = rcl_sizer\n",
    "        \n",
    "        # cities in a tour\n",
    "        self.tour = tour\n",
    "        \n",
    "        # travel cost matrix\n",
    "        self.matrix = matrix\n",
    "        \n",
    "        # create random number generator\n",
    "        self.rng = np.random.default_rng(random_seed)\n",
    "    \n",
    "    def build(self):\n",
    "        '''\n",
    "        Semi-greedy contruction of tour\n",
    "        \n",
    "        Returns:\n",
    "        --------\n",
    "        np.array\n",
    "        '''\n",
    "        # first city in tour\n",
    "        solution = np.array([self.tour[0]])    \n",
    "        \n",
    "        # it is an iterative (construction) procedure\n",
    "        for i in range(len(self.tour)-1):\n",
    "            # get the RCL size\n",
    "            r = self.rcl_sizer.get_size()\n",
    "            \n",
    "            # get the RCL\n",
    "            rcl = self.get_rcl(r, solution, solution[-1])\n",
    "            \n",
    "            # select the next city \n",
    "            next_city = self.random_from_rcl(rcl)\n",
    "            \n",
    "            # update the solution\n",
    "            solution = np.append(solution, np.array([next_city]))\n",
    "            \n",
    "        return solution\n",
    "    \n",
    "    def get_rcl(self, r, solution, from_city):\n",
    "        '''\n",
    "        Restricted candidate list for final city in current solution\n",
    "        \n",
    "        Params:\n",
    "        -------\n",
    "        solution: np.ndarray\n",
    "            vector of current partially constructed solution\n",
    "            \n",
    "        from_city: int\n",
    "            index of city used to construct rcl.\n",
    "        \n",
    "        Returns:\n",
    "        -------\n",
    "        np.array\n",
    "        '''\n",
    "        # get indexes of cities not in solution\n",
    "        mask = self.tour[~np.in1d(self.tour, solution)]\n",
    "        \n",
    "        # get indexes of r smallest travels costs \n",
    "        if mask.shape[0] > r:\n",
    "            # partition the vector for remaining cities - faster than sorting \n",
    "            idx = np.argpartition(self.matrix[from_city][mask], \n",
    "                                  len(mask) - r)[-r:]\n",
    "            rcl = mask[idx]\n",
    "        else:\n",
    "            # handle when r < n cities remaining \n",
    "            rcl = mask\n",
    "        return rcl\n",
    "    \n",
    "    def random_from_rcl(self, rcl):\n",
    "        '''\n",
    "        Select a city at random from rcl.\n",
    "        Return city index in self.matrix\n",
    "        \n",
    "        Params:\n",
    "        -------\n",
    "        rcl: np.ndarray\n",
    "            restricted candidate list\n",
    "            vector of candidate city indexes.\n",
    "        '''\n",
    "        return self.rng.choice(rcl)"
   ]
  },
  {
   "cell_type": "code",
   "execution_count": null,
   "id": "d50d2957-fcca-4725-92ba-6aea270b80cd",
   "metadata": {},
   "outputs": [],
   "source": []
  }
 ],
 "metadata": {
  "kernelspec": {
   "display_name": "Python 3 (ipykernel)",
   "language": "python",
   "name": "python3"
  },
  "language_info": {
   "codemirror_mode": {
    "name": "ipython",
    "version": 3
   },
   "file_extension": ".py",
   "mimetype": "text/x-python",
   "name": "python",
   "nbconvert_exporter": "python",
   "pygments_lexer": "ipython3",
   "version": "3.11.9"
  }
 },
 "nbformat": 4,
 "nbformat_minor": 5
}
