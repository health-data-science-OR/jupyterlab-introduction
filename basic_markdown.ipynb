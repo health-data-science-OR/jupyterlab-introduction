{
 "cells": [
  {
   "cell_type": "markdown",
   "metadata": {},
   "source": [
    "# Mastering basic **markdown** in Jupyter\n",
    "\n",
    "**T.Monks. December 2020**\n",
    "\n",
    "----\n",
    "\n",
    "**In this class you will learn how to:**\n",
    "\n",
    "* Set a Jupyter cell to Markdown mode.\n",
    "* Format titles and subtitles\n",
    "* Add horizontal lines\n",
    "* Format markdown text as code\n",
    "* Format text as bold and italic\n",
    "* Add bullet points and numbered lists\n",
    "* Include LaTeX mathematical expressions\n",
    "* Include images and hyperlinks"
   ]
  },
  {
   "cell_type": "markdown",
   "metadata": {},
   "source": [
    "## 1. Markdown cells\n",
    "\n",
    "1. Create a new cell below this one by pressing **ESC** then **b**\n",
    "2. Press **ESC** then **m** to convert the cell to markdown.\n",
    "3. Type 'test markdown cell' into the new cell and then press **Shift Enter**\n",
    "\n",
    "> The cell should now be rendered as markdown."
   ]
  },
  {
   "cell_type": "markdown",
   "metadata": {},
   "source": [
    "## 2. Formatting headers, titles and subtitles\n",
    "\n",
    "In markdown a header is formatted by the charactor `#`. The number of preceeding `#` charactors represents the level fo the header. For example: \n",
    "\n",
    "```markdown\n",
    "# header level 1\n",
    "\n",
    "## header level 2\n",
    "\n",
    "### header level 3\n",
    "```\n",
    "\n",
    "**Task**:\n",
    "* Create a markdown cell below and create three headers at levels 1, 2, and 3.\n"
   ]
  },
  {
   "cell_type": "markdown",
   "metadata": {},
   "source": [
    "## 3. Adding a horizontal line between sections\n",
    "\n",
    "To add a horizonal line insert a line of markdown with `---`.\n",
    "\n",
    "---\n",
    "\n",
    "**Task**:\n",
    "* Add a markdown cell below and add a horizontal line."
   ]
  },
  {
   "cell_type": "markdown",
   "metadata": {},
   "source": [
    "## 4. Formatting text as code.\n",
    "\n",
    "You can either format singular sections of text as code e.g. `code` or you can include blocks of code by placing the text between two sets of \"```\"  \n",
    "\n",
    "The following code is formatted a python:\n",
    "\n",
    "```python\n",
    "import numpy as np\n",
    "\n",
    "rng = np.random.default_rng(seed=42)\n",
    "```\n"
   ]
  },
  {
   "cell_type": "markdown",
   "metadata": {},
   "source": [
    "## 5. bold text and italic text\n",
    "\n",
    "To create **bold** text you need to surround a word or sentence with `**`.  For example:\n",
    "\n",
    "```markdown\n",
    "When rendered the final word in this sentence will be in **bold**\n",
    "\n",
    "```\n",
    "\n",
    "To create *italic* text you need to surround a word or sentence with `*`.  For example:\n",
    "\n",
    "```markdown\n",
    "*When rendered this whole sentence will be in italic font*\n",
    "\n",
    "```"
   ]
  },
  {
   "cell_type": "markdown",
   "metadata": {},
   "source": [
    "> double click on this cell to see them as markdown:\n",
    "\n",
    "When rendered the final word in this sentence will be in **bold**\n",
    "\n",
    "*When rendered this whole sentence will be in italic font*"
   ]
  },
  {
   "cell_type": "markdown",
   "metadata": {},
   "source": [
    "## 6. Bullet points and numbered lists\n",
    "\n",
    "To create a bullet point of items you need to use `*` followed by a single space and then your word or sentence. \n",
    "A number list is create in the same way, but we use numbers!\n",
    "\n",
    "For example, to create:\n",
    "\n",
    "* Bullet point 1\n",
    "    * Bullet point level 2\n",
    "        * Bullet point level 3\n",
    "* Back to level 1\n",
    "\n",
    "1. Numbered point 1\n",
    "    1. numbered point level 2 \n",
    "    2. Numbered point level 2 again\n",
    "2. Back to level 1\n",
    "\n",
    "We write the following in markdown\n",
    "\n",
    "```markdown\n",
    "* Bullet point 1\n",
    "    * Bullet point level 2\n",
    "        * Bullet point level 3\n",
    "* Back to level 1\n",
    "\n",
    "```\n",
    "\n",
    "```markdown\n",
    "1. Numbered point 1\n",
    "    1. numbered point level 2 \n",
    "    2. Numbered point level 2 again\n",
    "2. Back to level 1\n",
    "```"
   ]
  },
  {
   "cell_type": "markdown",
   "metadata": {},
   "source": [
    "## 7. Including LaTeX mathematical expressions.\n",
    "\n",
    "This is surprisingly easy!  To include basic expressions you just surround standard LaTeX with `$`.  \n",
    "\n",
    "For example to create:\n",
    "\n",
    "$y_{i} = \\sum_{i=0}^{N} x_i  y_i$\n",
    "\n",
    "We just write standard LaTeX.\n",
    "\n",
    "```markdown\n",
    "$y_{i} = \\sum_{i=0}^{N} x_i  y_i$\n",
    "\n",
    "```"
   ]
  },
  {
   "cell_type": "markdown",
   "metadata": {},
   "source": [
    "## 8. Including images\n",
    "\n",
    "There are several ways to include an image.  The below uses HTML directly and allows you to easily control the width of the image.\n",
    "\n",
    "```markdown\n",
    "<img src=\"images/st_lukes.jpg\" alt=\"Drawing\" style=\"width: 500px;\"/>\n",
    "```\n",
    "\n",
    "<img src=\"images/st_lukes.jpg\" alt=\"Drawing\" style=\"width: 500px;\"/>"
   ]
  },
  {
   "cell_type": "markdown",
   "metadata": {},
   "source": [
    "# 9. Adding a hypertext link.\n",
    "\n",
    "To provide a link to an external document or website is straightforward.  For example, to link to the [Anaconda website](https://www.anaconda.com/) you would use the following markdown:\n",
    "\n",
    "```markdown\n",
    "[Anaconda website](https://www.anaconda.com/)\n",
    "```"
   ]
  },
  {
   "cell_type": "markdown",
   "metadata": {},
   "source": [
    "# End"
   ]
  }
 ],
 "metadata": {
  "kernelspec": {
   "display_name": "Python 3 (ipykernel)",
   "language": "python",
   "name": "python3"
  },
  "language_info": {
   "codemirror_mode": {
    "name": "ipython",
    "version": 3
   },
   "file_extension": ".py",
   "mimetype": "text/x-python",
   "name": "python",
   "nbconvert_exporter": "python",
   "pygments_lexer": "ipython3",
   "version": "3.11.9"
  }
 },
 "nbformat": 4,
 "nbformat_minor": 4
}
