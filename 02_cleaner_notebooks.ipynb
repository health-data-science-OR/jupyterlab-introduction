{
 "cells": [
  {
   "cell_type": "markdown",
   "id": "b9054f41-d187-4d98-84b4-7c8831207509",
   "metadata": {},
   "source": [
    "# Keeping clean notebooks\n",
    "\n",
    "In this notebook you will learn:\n",
    "\n",
    "* How to use the notebook spellchecker included `hds_code` to reduce spelling mistakes in your notebook work.\n",
    "* How to use Jupyter Lab's built in rulers to keep code clean\n",
    "* How to break strings over multiple lines and how to call functions with a large number of parameters.\n",
    "* How to use a package called `nbqa` combined with `flake8` and `black` to lint and autoformat code in a notebook\n",
    "* How to write a PEP257 compliant docstrings"
   ]
  },
  {
   "cell_type": "markdown",
   "id": "513864d3-0376-45ae-b876-065decf7415c",
   "metadata": {
    "jp-MarkdownHeadingCollapsed": true
   },
   "source": [
    "## Imports\n",
    "\n",
    "> We are not going to use this import, you will see why later!"
   ]
  },
  {
   "cell_type": "code",
   "execution_count": 1,
   "id": "ef3aa795-7033-4c60-8e21-920a32242daf",
   "metadata": {},
   "outputs": [],
   "source": [
    "import numpy as np"
   ]
  },
  {
   "cell_type": "markdown",
   "id": "ca8a00a6-bed7-47e9-b058-42cb476e2c24",
   "metadata": {},
   "source": [
    "## 1. Spelling checking markdown\n",
    "\n",
    "The `hds_code` environment includes a Jupyter-lab extension called `jupyterlab-spellchecker`. We will use the following example to illustrate how it works:\n",
    "\n",
    "The text kindly written by ChatGPT (note the wafflely style that is easy to spot!) contains the following spelling mistakes:\n",
    "\n",
    "The six spelling mistakes in this paragraph are:\n",
    "\n",
    "1. powerfull (should be powerful)\n",
    "2. envirnment (should be environment)\n",
    "3. consise (should be concise)\n",
    "4. mantain (should be maintain)\n",
    "5. guidlines (should be guidelines)\n",
    "6. colaboration (should be collaboration)\n",
    "\n",
    "You will see these highlighted when you edit the markdown below. Right click on the highlighted word and select **adjust spelling to** for suggestions.  Alternatively select **ignore** if the spelling is as desired.\n"
   ]
  },
  {
   "cell_type": "markdown",
   "id": "179bd13b-c668-4d12-a166-8a5a9d265934",
   "metadata": {},
   "source": [
    "### 1.1. Finding and fixing spelling mistakes in markdown\n",
    "\n",
    "Jupyter Lab notebooks are powerfull tools for data scientists and researchers, offering a versatile envirnment for coding, analysis, and documentation. To structure your notebooks effectively, start by creating a clear and consise title that reflects the project's purpose. Organize your content into logical sections, using markdown cells for headings and explanations. It's crucial to mantain a balance between code and narrative, ensuring that your notebook tells a coherent story. Include comments within code cells to clarify complex operations, and consider using collapsible sections for lengthy outputs. Remember to clean and run all cells before sharing your notebook, as this helps prevent confusing results. By following these guidlines and maintaining consistent formatting throughout, you'll create well-structured notebooks that are easy to navigate and understand, enhancing colaboration and reproducibility in your work."
   ]
  },
  {
   "cell_type": "markdown",
   "id": "8c3502be-7ba3-4527-badf-92684794b7b2",
   "metadata": {},
   "source": [
    "## 2. Line length\n",
    "\n",
    "In python we aim to keep line length to 79 (or 80) characters. That is a line that exceeds this length breaks [PEP8 coding standards](https://peps.python.org/pep-0008/). More concretely - it becomes harder to read the code! This is partly due to (old) monitor size, but also coders usually have more than one window open at a time. Long unbroken lines of code can be hard to read.\n",
    "\n",
    "### 2.1 Adding a ruler (vertical line) for code cells \n",
    "\n",
    "There is no real excuse for having extremely long lines of code. Python syntax and all major IDEs makes it easy to split lines. In Jupyter, make sure to head over to **Settings** menu and select **Notebook**.  Choose to **Add** in a ruler for code cells at either 79 or 80 characters. \n",
    "\n",
    "<img src=\"images/ruler.png\" alt=\"ruler\" style=\"width: 500px;\"/>\n",
    "\n",
    "### 2.2 Strings and line length\n",
    "\n",
    "Strings can sometimes become very long. Here is a simple example where the **backslash** character is used to break up a string over multiple lines.\n"
   ]
  },
  {
   "cell_type": "code",
   "execution_count": 2,
   "id": "7dba33b6-eb5a-48d2-bdb8-dfefe2f42691",
   "metadata": {},
   "outputs": [
    {
     "name": "stdout",
     "output_type": "stream",
     "text": [
      "Invalid parameter selections for hospital_id, ward_id and confidence_int.  Please select values with range provided in the main manual.\n"
     ]
    }
   ],
   "source": [
    "# splitting a string over multiple lines with the backslash\n",
    "msg = (\n",
    "    \"Invalid parameter selections for hospital_id, ward_id and \"\n",
    "    \"confidence_int.  Please select values with range provided in the main \"\n",
    "    \"manual.\"\n",
    ")\n",
    "print(msg)"
   ]
  },
  {
   "cell_type": "markdown",
   "id": "28c2dce4-4b2d-45c5-ba1e-d0ed27ff2361",
   "metadata": {},
   "source": [
    "### 2.3 Code and line length\n",
    "\n",
    "In the data science libraries of python you will find that functions and classes tend to have a large number of mandatory and optional parameters. To keep your code readable you will need to split your code over multiple lines. For example, here is a dummy function that takes four parameters:"
   ]
  },
  {
   "cell_type": "code",
   "execution_count": 3,
   "id": "4741e288-b74c-432f-95f4-26fea342bbad",
   "metadata": {},
   "outputs": [],
   "source": [
    "def rolling_forecast_origin(train, min_train_size, horizon=1, step=1):\n",
    "    \"\"\"dummy function with lots of parameters\"\"\"\n",
    "    return None\n",
    "\n",
    "\n",
    "y_train = []\n",
    "min_train_size = 24\n",
    "horizon = 6\n",
    "step = 2\n",
    "\n",
    "# call the function\n",
    "cv = rolling_forecast_origin(train=y_train, min_train_size=min_train_size, horizon=horizon, step=step)"
   ]
  },
  {
   "cell_type": "markdown",
   "id": "6313db64-63be-4564-9ec2-6176edc9620b",
   "metadata": {},
   "source": [
    "You can put each parameter on a separate line (or two per line). Note that the names of the variables are aligned.  See PEP8 for more details."
   ]
  },
  {
   "cell_type": "code",
   "execution_count": 4,
   "id": "1292b03e-4513-491c-b25d-7f3299e79ab6",
   "metadata": {},
   "outputs": [],
   "source": [
    "# alternative call style the maintains line length\n",
    "cv = rolling_forecast_origin(train=y_train, \n",
    "                             min_train_size=min_train_size, \n",
    "                             horizon=horizon, \n",
    "                             step=step\n",
    ")"
   ]
  },
  {
   "cell_type": "markdown",
   "id": "dff767da-f415-4da4-a631-7913ce5dbaed",
   "metadata": {},
   "source": [
    "There may be situations where your function or class exceeds line length guidance because it has a large number of parameters or they may have default values. For example in the `Normal` distribution class below "
   ]
  },
  {
   "cell_type": "code",
   "execution_count": 5,
   "id": "8bd16071-80bc-42d9-9239-a05d1f1a200d",
   "metadata": {},
   "outputs": [],
   "source": [
    "class Normal:\n",
    "    def __init__(self, mean=0.0, sigma=1.0, x_minimum=None, x_maximum=None, random_seed=None):\n",
    "        pass"
   ]
  },
  {
   "cell_type": "markdown",
   "id": "ac44f8f0-d70e-4ddc-93ee-3037dd77a5fa",
   "metadata": {},
   "source": [
    "To correctly follow [PEP8 guidelines](https://peps.python.org/pep-0008/) you can use a hanging indent for each parameter. Note that you should add 4 spaces (an extra level of indentation) to distinguish arguments from the rest."
   ]
  },
  {
   "cell_type": "code",
   "execution_count": 6,
   "id": "cee03517-57e8-41ef-bbf4-979a1c827ece",
   "metadata": {},
   "outputs": [],
   "source": [
    "class Normal:\n",
    "    def __init__(\n",
    "        self,\n",
    "        mean=0.0,\n",
    "        sigma=1.0,\n",
    "        x_minimum=None,\n",
    "        x_maximum=None,\n",
    "        random_seed=None,\n",
    "    ):\n",
    "        pass"
   ]
  },
  {
   "cell_type": "markdown",
   "id": "0d559a30-b6e2-4839-bdfd-8f2d70698544",
   "metadata": {},
   "source": [
    "## 3. Docstrings\n",
    "\n",
    "If you create a python function, class, or module then you should provide a docstring to go with it. You can read more about docstrings in [PEP257](https://peps.python.org/pep-0257/). \n",
    "\n",
    "### 3.1 Docstrings in notebooks\n",
    "\n",
    "I’ve provided a simple function example below (with the main code omitted). Note that use of the triple quotes to open and close the docstring. In this case my docstring consists of three sections:\n",
    "\n",
    "1. A short description of the singular purpose of the function\n",
    "2. A description of mandatory and optional parameters (and default values if applicable)\n",
    "3. Details of the type of variable(s) returned when execution is complete.\n",
    "\n",
    "> Note that sometimes code uses the \"keyword arguments\" in place of \"Parameters\".  **Whatever you choose be consistent.**\n",
    "\n",
    "Functions and classes in clean notebooks should aim to have a good quality docstring. The complexity of these should be enough to describe the three points above. **But note** that you should also be using markdown and code cells to illustrate how the function/class is used. "
   ]
  },
  {
   "cell_type": "code",
   "execution_count": 7,
   "id": "acdffd17-5b78-47ee-af7e-d10ed26f6fe0",
   "metadata": {},
   "outputs": [],
   "source": [
    "def multiple_replications(rc_period=1440, warm_up=0, n_reps=5):\n",
    "    \"\"\"\n",
    "    Perform multiple replications of a computer simulation model\n",
    "    of a hospital ward.  Returns results of each replication in tabular\n",
    "    format.\n",
    "\n",
    "    Parameters:\n",
    "    ------\n",
    "\n",
    "    rc_period: float, optional (default=1440)\n",
    "        results collection period.\n",
    "        the number of minutes to run the model beyond warm up\n",
    "        to collect results\n",
    "\n",
    "    warm_up: float, optional (default=0)\n",
    "        initial transient period.  no results are collected in this period\n",
    "\n",
    "    n_reps: int, optional (default=5)\n",
    "        Number of independent replications to run.\n",
    "\n",
    "    Returns:\n",
    "    --------\n",
    "    pandas.DataFrame\n",
    "    \"\"\"\n",
    "    pass"
   ]
  },
  {
   "cell_type": "markdown",
   "id": "cb86a645-b560-437e-afe8-b611859ecee9",
   "metadata": {
    "jp-MarkdownHeadingCollapsed": true
   },
   "source": [
    "### 3.2. A note on more complex docstrings (in modules or packages)\n",
    "\n",
    "Docstrings can vary in length depending on the complexity of the code and if you intend for it to be reused by others. For example, from my `forecast_tools` package I include the following docstring with a function called `auto_naive` . This includes additional sections on:\n",
    "\n",
    "* Raises - a list of exceptions that can occur when called\n",
    "* See also - a list of related classes and functions\n",
    "* Examples - pythonic code to test the function"
   ]
  },
  {
   "cell_type": "code",
   "execution_count": 8,
   "id": "99f74e6f-040c-4856-a648-f9d2abac8c01",
   "metadata": {},
   "outputs": [],
   "source": [
    "def auto_naive(\n",
    "    y_train,\n",
    "    horizon=1,\n",
    "    seasonal_period=1,\n",
    "    min_train_size=\"auto\",\n",
    "    method=\"cv\",\n",
    "    step=1,\n",
    "    window_size=\"auto\",\n",
    "    metric=\"mae\",\n",
    "):\n",
    "    \"\"\"Automatic selection of the 'best' naive benchmark on a 'single' series\n",
    "    The selection process uses out-of-sample cv performance.\n",
    "    By default auto_naive uses cross validation to estimate the mean\n",
    "    point forecast peformance of all naive methods.  It selects the method\n",
    "    with the lowest point forecast metric on average.\n",
    "    If there is limited data for training a basic holdout sample could be\n",
    "    used.\n",
    "    Dev note: the plan is to update this to work with multiple series.\n",
    "    It would be best to use MASE for multiple series comparison.\n",
    "\n",
    "    Parameters:\n",
    "    ----------\n",
    "    y_train: array-like\n",
    "        training data.  typically in a pandas.Series, pandas.DataFrame\n",
    "        or numpy.ndarray format.\n",
    "    horizon: int, optional (default=1)\n",
    "        Forecast horizon.\n",
    "    seasonal_period: int, optional (default=1)\n",
    "        Frequency of the data.  E.g. 7 for weekly pattern, 12 for monthly\n",
    "        365 for daily.\n",
    "    min_train_size: int or str, optional (default='auto')\n",
    "        The size of the initial training set (if method=='ro' or 'sw').\n",
    "        If 'auto' then then min_train_size is set to len(y_train) // 3\n",
    "        If main_train_size='auto' and method='holdout' then\n",
    "        min_train_size = len(y_train) - horizon.\n",
    "    method: str, optional (default='cv')\n",
    "        out of sample selection method.\n",
    "        'ro' - rolling forecast origin\n",
    "        'sw' - sliding window\n",
    "        'cv' - scores from both ro and sw\n",
    "        'holdout' - single train/test split\n",
    "         Methods'ro' and 'sw' are similar, however, sw has a fixed\n",
    "         window_size and drops older data from training.\n",
    "    step: int, optional (default=1)\n",
    "        The stride/step of the cross-validation. I.e. the number\n",
    "        of observations to move forward between folds.\n",
    "    window_size: str or int, optional (default='auto')\n",
    "        The window_size if using sliding window cross validation\n",
    "        When 'auto' and method='sw' then\n",
    "        window_size=len(y_train) // 3\n",
    "    metric: str, optional (default='mae')\n",
    "        The metric to measure out of sample accuracy.\n",
    "        Options: mase, mae, mape, smape, mse, rmse, me.\n",
    "\n",
    "    Returns:\n",
    "    --------\n",
    "    dict\n",
    "        'model': baseline.Forecast\n",
    "        f'{metric}': float\n",
    "        Contains the model and its CV performance.\n",
    "\n",
    "    Raises:\n",
    "    -------\n",
    "    ValueError\n",
    "        For invalid method, metric, window_size parameters\n",
    "\n",
    "    See Also:\n",
    "    --------\n",
    "    forecast_tools.baseline.Naive1\n",
    "    forecast_tools.baseline.SNaive\n",
    "    forecast_tools.baseline.Drift\n",
    "    forecast_tools.baseline.Average\n",
    "    forecast_tools.baseline.EnsembleNaive\n",
    "    forecast_tools.baseline.baseline_estimators\n",
    "    forecast_tools.model_selection.rolling_forecast_origin\n",
    "    forecast_tools.model_selection.sliding_window\n",
    "    forecast_tools.model_selection.mase_cross_validation_score\n",
    "    forecast_tools.metrics.mean_absolute_scaled_error\n",
    "\n",
    "    Examples:\n",
    "    ---------\n",
    "    Measuring MAE and taking the best method using both\n",
    "    rolling origin and sliding window cross validation\n",
    "    of a 56 day forecast.\n",
    "\n",
    "    ```\n",
    "    >>> from forecast_tools.datasets import load_emergency_dept\n",
    "    >>> y_train = load_emergency_dept\n",
    "    >>> best = auto_naive(y_train, seasonal_period=7, horizon=56)\n",
    "    >>> best\n",
    "    {'model': Average(), 'mae': 19.63791579700355}\n",
    "    ```\n",
    "\n",
    "    Take a step of 7 days between cv folds.\n",
    "\n",
    "    ```\n",
    "    >>> from forecast_tools.datasets import load_emergency_dept\n",
    "    >>> y_train = load_emergency_dept\n",
    "    >>> best = auto_naive(y_train, seasonal_period=7, horizon=56,\n",
    "        ...               step=7)\n",
    "    >>> best\n",
    "    {'model': Average(), 'mae': 19.675635558539383}\n",
    "    ```\n",
    "    \"\"\"\n",
    "    pass"
   ]
  },
  {
   "cell_type": "markdown",
   "id": "d3778580-fbca-44a8-b0fb-f9b7b04b084d",
   "metadata": {},
   "source": [
    "## 4. Linting and autoformatting notebooks\n",
    "\n",
    "### 4.1 Linting notebooks\n",
    "\n",
    "If you are new to coding (or even experienced!) you might be delighted to know that software exists to help you write cleaner code and keep to PEP8 standards. These are called code **linters**.\n",
    "\n",
    "There are a number of linters you can choose from. Here I make use of **flake8**. I’ve always found this helpful.\n",
    "\n",
    "To use flake8 with a Jupyter notebook requires another package `nbqa` ([Quality Assurance for Jupyter Notebooks](https://nbqa.readthedocs.io/en/latest/)). This can be installed from pip.\n",
    "\n",
    "For example to run the linter with this particular notebook I would run the following in the terminal:\n",
    "\n",
    "```bash\n",
    "nbqa flake8 02_cleaner_notebooks.ipynb\n",
    "```\n",
    "\n",
    "I get the following output:\n",
    "\n",
    "```\n",
    "cleaner_notebooks.ipynb:cell_1:1:1: F401 'numpy as np' imported but unused\n",
    "cleaner_notebooks.ipynb:cell_3:12:80: E501 line too long (101 > 79 characters)\n",
    "cleaner_notebooks.ipynb:cell_3:13:1: E124 closing bracket does not match visual indentation\n",
    "cleaner_notebooks.ipynb:cell_4:2:44: W291 trailing whitespace\n",
    "cleaner_notebooks.ipynb:cell_4:3:60: W291 trailing whitespace\n",
    "cleaner_notebooks.ipynb:cell_4:4:46: W291 trailing whitespace\n",
    "cleaner_notebooks.ipynb:cell_4:6:1: E124 closing bracket does not match visual indentation\n",
    "cleaner_notebooks.ipynb:cell_5:2:80: E501 line too long (94 > 79 characters)\n",
    "cleaner_notebooks.ipynb:cell_6:1:1: F811 redefinition of unused 'Normal' from line 41\n",
    "```"
   ]
  },
  {
   "cell_type": "markdown",
   "id": "19fcb3a9-5c38-4803-a65c-91ad2f2d6942",
   "metadata": {},
   "source": [
    "**Explanation**\n",
    "\n",
    "The first line can be interpreted as follows:\n",
    "\n",
    "* `cell_1` - indicated that the code that failed linting is in input cell 1.\n",
    "* `F401` - the specific linting violation identifier. In this case module imported, but not used. (you can see the full list of violations [here](https://flake8.pycqa.org/en/latest/user/error-codes.html)\n",
    "* `numpy as np` in this case the module that is not used in the notebook.\n",
    "\n",
    "To **resolve** this error we would decide if the `numpy` import should be removed.  Avoid imports that are not needed.\n",
    "\n",
    "The second line can be interpreted as follows:\n",
    "\n",
    "* The violation is in input `cell_3`\n",
    "* The violation is on line 12\n",
    "* The code exceeds PEP8 line length (101 instead of 79 characters).\n",
    "\n",
    "> To toggle line numbers on in a notebook: Select the cell. Press ESC. Shift-L.\n",
    "\n",
    "The line of code in question is: \n",
    "\n",
    "```python\n",
    "cv = rolling_forecast_origin(train=y_train, min_train_size=min_train_size, horizon=horizon, step=step)\n",
    "```\n",
    "\n",
    "To **resolve** this error we would use the line formatting option already discussed."
   ]
  },
  {
   "cell_type": "markdown",
   "id": "8d3dc060-7053-49aa-aafb-3ad7f02c4a0a",
   "metadata": {},
   "source": [
    "### 4.2 Autoformatting code in notebooks\n",
    "\n",
    "To help with PEP8 compliance we can make use of a code formatter.  In the `hds_code` environment you can combined `nbqa` with `black`. This software will greatly improve the code format, but may not fully comply with PEP8. So it is often useful to run a linter afterwards to check.  \n",
    "\n",
    "It can be run as follows in a terminal:\n",
    "\n",
    "```bash\n",
    "nbqa black 02_cleaner_notebooks.ipynb\n",
    "```\n",
    "\n",
    "**Caveats**\n",
    "\n",
    "By default `black` uses a longer line length than 79. We can modify the line length parameter as follows:\n",
    "\n",
    "```black\n",
    "nbqa black 02_cleaner_notebooks.ipynb --line-length=79\n",
    "```\n",
    "\n",
    "> Note that black will note break strings for you. If you have long strings in functions/classes/cells I recommend you make use of section 2.2"
   ]
  }
 ],
 "metadata": {
  "kernelspec": {
   "display_name": "Python 3 (ipykernel)",
   "language": "python",
   "name": "python3"
  },
  "language_info": {
   "codemirror_mode": {
    "name": "ipython",
    "version": 3
   },
   "file_extension": ".py",
   "mimetype": "text/x-python",
   "name": "python",
   "nbconvert_exporter": "python",
   "pygments_lexer": "ipython3",
   "version": "3.11.9"
  }
 },
 "nbformat": 4,
 "nbformat_minor": 5
}
