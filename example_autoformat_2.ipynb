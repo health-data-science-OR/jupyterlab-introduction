{
 "cells": [
  {
   "cell_type": "markdown",
   "id": "66d564ff-f122-4afe-909c-ca47079ea1c9",
   "metadata": {},
   "source": [
    "# Autoformat notebook example\n",
    "\n",
    "This notebook contains some code that violates PEP8 style guidelines.  It is designed to be used with the `black` autoformatting tool to demonstrate how code is modified for you.\n",
    "\n",
    "**RECOMMENDED**: make a **copy** of this notebook before you auto-format it!  That way you can try different settings to see the results."
   ]
  },
  {
   "cell_type": "markdown",
   "id": "3d9b475c-0502-4b91-8137-3b91aa9cb095",
   "metadata": {},
   "source": [
    "## Imports"
   ]
  },
  {
   "cell_type": "code",
   "execution_count": 1,
   "id": "6ce99cba-40c6-4436-b82b-6baa7d4677e2",
   "metadata": {},
   "outputs": [],
   "source": [
    "import pandas as pd\n",
    "import numpy as np\n",
    "from sklearn.preprocessing import StandardScaler, OneHotEncoder\n",
    "from sklearn.model_selection import train_test_split\n",
    "from sklearn.linear_model import LogisticRegression"
   ]
  },
  {
   "cell_type": "markdown",
   "id": "31591bd8-909b-48a6-b391-f3ce90c0d845",
   "metadata": {},
   "source": [
    "## 1. Violations of PEP8 in the code example.\n",
    "\n",
    "* Line length: Many lines exceed 79 or 100 characters.\n",
    "* Inconsistent indentation and whitespace: There are irregular spaces between function parameters and after commas.\n",
    "* No blank lines between logical sections of the code.\n",
    "* Improper string formatting: The long print statement at the end should be broken into multiple lines."
   ]
  },
  {
   "cell_type": "code",
   "execution_count": 2,
   "id": "bc4a6b03-0a34-4108-85f2-b541b2f9f6b4",
   "metadata": {},
   "outputs": [],
   "source": [
    "def messy_data_analysis(\n",
    "    data_frame,\n",
    "    columns_to_process,\n",
    "    numeric_columns,\n",
    "    categorical_columns,\n",
    "    target_variable,\n",
    "):\n",
    "    # Preprocessing\n",
    "    data_frame = data_frame[columns_to_process]\n",
    "    data_frame[numeric_columns] = data_frame[numeric_columns].fillna(\n",
    "        data_frame[numeric_columns].mean()\n",
    "    )\n",
    "    data_frame[categorical_columns] = data_frame[categorical_columns].fillna(\n",
    "        data_frame[categorical_columns].mode().iloc[0]\n",
    "    )\n",
    "\n",
    "    # Feature engineering\n",
    "    scaler = StandardScaler()\n",
    "    data_frame[numeric_columns] = scaler.fit_transform(\n",
    "        data_frame[numeric_columns]\n",
    "    )\n",
    "\n",
    "    encoder = OneHotEncoder(sparse=False, handle_unknown=\"ignore\")\n",
    "    encoded_categorical = encoder.fit_transform(\n",
    "        data_frame[categorical_columns]\n",
    "    )\n",
    "    encoded_feature_names = encoder.get_feature_names(categorical_columns)\n",
    "\n",
    "    encoded_df = pd.DataFrame(\n",
    "        encoded_categorical,\n",
    "        columns=encoded_feature_names,\n",
    "        index=data_frame.index,\n",
    "    )\n",
    "\n",
    "    processed_data = pd.concat(\n",
    "        [data_frame[numeric_columns], encoded_df, data_frame[target_variable]],\n",
    "        axis=1,\n",
    "    )\n",
    "\n",
    "    # Split the data\n",
    "    X = processed_data.drop(columns=[target_variable])\n",
    "    y = processed_data[target_variable]\n",
    "    X_train, X_test, y_train, y_test = train_test_split(\n",
    "        X, y, test_size=0.2, random_state=42\n",
    "    )\n",
    "\n",
    "    # Train a simple model\n",
    "    model = LogisticRegression(random_state=42, max_iter=1000)\n",
    "    model.fit(X_train, y_train)\n",
    "\n",
    "    # Evaluate the model\n",
    "    train_accuracy = model.score(X_train, y_train)\n",
    "    test_accuracy = model.score(X_test, y_test)\n",
    "\n",
    "    print(\n",
    "        f\"This function performs data preprocessing, feature engineering, and trains a logistic regression model on the given dataset. The model achieves a training accuracy of {train_accuracy:.2f} and a test accuracy of {test_accuracy:.2f}. Please note that this is a basic analysis and may not be suitable for all datasets or problems. Further optimization and model selection might be necessary for better results.\"\n",
    "    )\n",
    "\n",
    "    return model, train_accuracy, test_accuracy"
   ]
  },
  {
   "cell_type": "markdown",
   "id": "c7c4b4e1-12a0-439d-906a-c3d04d91e450",
   "metadata": {},
   "source": [
    "## 2. What does flake8 tell use?\n",
    "\n",
    "To obtain the output below run the following in a terminal\n",
    "\n",
    "```bash\n",
    "nbqa flake8 03_notebook_to_format.ipynb\n",
    "```\n",
    "\n",
    "Fixing all of the below will take several iterations. Instead we will use `black` to autoformat the notebook\n",
    "\n",
    "```\n",
    "03_notebook_to_format.ipynb:cell_1:2:1: F401 'numpy as np' imported but unused\n",
    "03_notebook_to_format.ipynb:cell_2:1:35: E231 missing whitespace after ','\n",
    "03_notebook_to_format.ipynb:cell_2:1:74: E231 missing whitespace after ','\n",
    "03_notebook_to_format.ipynb:cell_2:1:80: E501 line too long (117 > 79 characters)\n",
    "03_notebook_to_format.ipynb:cell_2:1:118: W291 trailing whitespace\n",
    "03_notebook_to_format.ipynb:cell_2:4:80: E501 line too long (104 > 79 characters)\n",
    "03_notebook_to_format.ipynb:cell_2:5:80: E501 line too long (124 > 79 characters)\n",
    "03_notebook_to_format.ipynb:cell_2:6:1: W293 blank line contains whitespace\n",
    "03_notebook_to_format.ipynb:cell_2:9:80: E501 line too long (83 > 79 characters)\n",
    "03_notebook_to_format.ipynb:cell_2:10:1: W293 blank line contains whitespace\n",
    "03_notebook_to_format.ipynb:cell_2:12:80: E501 line too long (80 > 79 characters)\n",
    "03_notebook_to_format.ipynb:cell_2:14:1: W293 blank line contains whitespace\n",
    "03_notebook_to_format.ipynb:cell_2:15:80: E501 line too long (105 > 79 characters)\n",
    "03_notebook_to_format.ipynb:cell_2:16:1: W293 blank line contains whitespace\n",
    "03_notebook_to_format.ipynb:cell_2:17:80: E501 line too long (110 > 79 characters)\n",
    "03_notebook_to_format.ipynb:cell_2:18:1: W293 blank line contains whitespace\n",
    "03_notebook_to_format.ipynb:cell_2:22:80: E501 line too long (93 > 79 characters)\n",
    "03_notebook_to_format.ipynb:cell_2:23:1: W293 blank line contains whitespace\n",
    "03_notebook_to_format.ipynb:cell_2:27:1: W293 blank line contains whitespace\n",
    "03_notebook_to_format.ipynb:cell_2:31:1: W293 blank line contains whitespace\n",
    "03_notebook_to_format.ipynb:cell_2:32:80: E501 line too long (421 > 79 characters)\n",
    "03_notebook_to_format.ipynb:cell_2:33:1: W293 blank line contains whitespace\n",
    "```"
   ]
  },
  {
   "cell_type": "markdown",
   "id": "5173bff2-fa2d-4ba4-85d2-a3c579647c3d",
   "metadata": {},
   "source": [
    "## Using black to autoformat the document\n",
    "\n",
    "> **Remember** to make a copy of the original notebook first.\n",
    "\n",
    "Try the following and compare the output.\n",
    "\n",
    "```\n",
    "nbqa black [insert notebook name].ipynb\n",
    "```\n",
    "\n",
    "```\n",
    "nbqa black [insert notebook name].ipynb --line-length=79\n",
    "```\n",
    "\n",
    "> What happened to the string in the final print?"
   ]
  },
  {
   "cell_type": "code",
   "execution_count": null,
   "id": "3ee2e212-3028-402b-920d-ac6b6b6d0c90",
   "metadata": {},
   "outputs": [],
   "source": []
  }
 ],
 "metadata": {
  "kernelspec": {
   "display_name": "Python 3 (ipykernel)",
   "language": "python",
   "name": "python3"
  },
  "language_info": {
   "codemirror_mode": {
    "name": "ipython",
    "version": 3
   },
   "file_extension": ".py",
   "mimetype": "text/x-python",
   "name": "python",
   "nbconvert_exporter": "python",
   "pygments_lexer": "ipython3",
   "version": "3.11.9"
  }
 },
 "nbformat": 4,
 "nbformat_minor": 5
}
